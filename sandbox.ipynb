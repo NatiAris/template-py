{
 "cells": [
  {
   "cell_type": "markdown",
   "metadata": {},
   "source": [
    "*The notebook is for whatever experiments you need*"
   ]
  },
  {
   "cell_type": "code",
   "execution_count": null,
   "metadata": {},
   "outputs": [],
   "source": [
    "import importlib"
   ]
  },
  {
   "cell_type": "code",
   "execution_count": null,
   "metadata": {},
   "outputs": [],
   "source": [
    "# Don't use in production.\n",
    "def import_or_reload(module: str):\n",
    "    \"\"\"Import or reload a module, return it.\"\"\"\n",
    "    module = globals().get(module, module)\n",
    "    try:\n",
    "        return importlib.reload(module)\n",
    "    except TypeError:  # If we got a string\n",
    "        return importlib.import_module(module)"
   ]
  },
  {
   "cell_type": "code",
   "execution_count": null,
   "metadata": {},
   "outputs": [],
   "source": [
    "# Re-run this cell to apply updates in the modules\n",
    "# import sandbox\n",
    "sandbox = import_or_reload('sandbox')\n",
    "# from example import main\n",
    "main = import_or_reload('example.main')"
   ]
  },
  {
   "cell_type": "code",
   "execution_count": null,
   "metadata": {},
   "outputs": [],
   "source": []
  }
 ],
 "metadata": {
  "kernelspec": {
   "display_name": "Python 3",
   "language": "python",
   "name": "python3"
  },
  "language_info": {
   "codemirror_mode": {
    "name": "ipython",
    "version": 3
   },
   "file_extension": ".py",
   "mimetype": "text/x-python",
   "name": "python",
   "nbconvert_exporter": "python",
   "pygments_lexer": "ipython3",
   "version": "3.6.2"
  }
 },
 "nbformat": 4,
 "nbformat_minor": 2
}
